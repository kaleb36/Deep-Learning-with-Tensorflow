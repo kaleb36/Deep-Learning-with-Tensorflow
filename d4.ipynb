{
 "cells": [
  {
   "cell_type": "markdown",
   "id": "a3b4f58a",
   "metadata": {},
   "source": [
    "# using the GradientTape on  tensor Variables "
   ]
  },
  {
   "cell_type": "code",
   "execution_count": 4,
   "id": "aecb7188",
   "metadata": {},
   "outputs": [
    {
     "name": "stdout",
     "output_type": "stream",
     "text": [
      "done\n"
     ]
    }
   ],
   "source": [
    "import tensorflow as tf\n",
    "\n",
    "input_var = tf.Variable(initial_value=3.)\n",
    "with tf.GradientTape() as tape:\n",
    "    result = tf.square(input_var)\n",
    "gradient = tape.gradient(result, input_var)\n",
    "print('done')"
   ]
  },
  {
   "cell_type": "markdown",
   "id": "cf6e2cc1",
   "metadata": {},
   "source": [
    "# using GradientTape API on tensor constants"
   ]
  },
  {
   "cell_type": "raw",
   "id": "8cdb45fb",
   "metadata": {},
   "source": [
    "Only tensor variables ()trainable variables are tracked, using GradientTape on constant tensor you have to manually mark it as being tracked by calling watch() on it."
   ]
  },
  {
   "cell_type": "code",
   "execution_count": 7,
   "id": "a5aac999",
   "metadata": {},
   "outputs": [
    {
     "name": "stdout",
     "output_type": "stream",
     "text": [
      "done\n"
     ]
    }
   ],
   "source": [
    "input_cons = tf.constant(3.)\n",
    "with tf.GradientTape() as tape:\n",
    "    tape.watch(input_cons)\n",
    "    result = tf.square(input_cons)\n",
    "gradient = tape.gradient(result, input_cons)\n",
    "print('done')"
   ]
  },
  {
   "cell_type": "markdown",
   "id": "83c9321b",
   "metadata": {},
   "source": [
    "# Using GradientTape to compute second-order gradient"
   ]
  },
  {
   "cell_type": "code",
   "execution_count": 10,
   "id": "c2ce68b3",
   "metadata": {},
   "outputs": [
    {
     "name": "stdout",
     "output_type": "stream",
     "text": [
      "tf.Tensor(9.8, shape=(), dtype=float32)\n"
     ]
    }
   ],
   "source": [
    "time = tf.Variable(3.0)\n",
    "with tf.GradientTape() as tape:\n",
    "    with tf.GradientTape() as inner_tape:\n",
    "        D = 4.9 * time ** 2\n",
    "    V = inner_tape.gradient(D, time)\n",
    "a = tape.gradient(V, time)\n",
    "\n",
    "print(a)"
   ]
  },
  {
   "cell_type": "code",
   "execution_count": null,
   "id": "f0fc7f3b",
   "metadata": {},
   "outputs": [],
   "source": []
  }
 ],
 "metadata": {
  "kernelspec": {
   "display_name": "tf",
   "language": "python",
   "name": "tf"
  },
  "language_info": {
   "codemirror_mode": {
    "name": "ipython",
    "version": 3
   },
   "file_extension": ".py",
   "mimetype": "text/x-python",
   "name": "python",
   "nbconvert_exporter": "python",
   "pygments_lexer": "ipython3",
   "version": "3.9.16"
  }
 },
 "nbformat": 4,
 "nbformat_minor": 5
}
