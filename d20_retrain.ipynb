{
 "cells": [
  {
   "cell_type": "markdown",
   "id": "efc582c3-511e-4ed8-b9db-842b82e0434b",
   "metadata": {},
   "source": [
    "## Retraining the model from d20 notebook"
   ]
  },
  {
   "cell_type": "code",
   "execution_count": 1,
   "id": "774b22d6-7e95-4351-b964-fa08f646e328",
   "metadata": {},
   "outputs": [
    {
     "name": "stdout",
     "output_type": "stream",
     "text": [
      "Found 2000 files belonging to 2 classes.\n",
      "Found 1000 files belonging to 2 classes.\n",
      "Found 2000 files belonging to 2 classes.\n",
      "63/63 [==============================] - 10s 47ms/step - loss: 0.5943 - accuracy: 0.7110\n",
      "test Accuracy: 0.711\n"
     ]
    }
   ],
   "source": [
    "from tensorflow import keras\n",
    "from tensorflow.keras import layers\n",
    "\n",
    "from tensorflow.keras.utils import image_dataset_from_directory\n",
    "\n",
    "train_dataset = image_dataset_from_directory(\n",
    "    \"cats_vs_dogs_small\\\\train\",\n",
    "    image_size=(180,180),\n",
    "    batch_size=32)\n",
    "validation_dataset = image_dataset_from_directory(\n",
    "    \"cats_vs_dogs_small\\\\validation\",\n",
    "    image_size=(180,180),\n",
    "    batch_size=32)\n",
    "test_dataset = image_dataset_from_directory(\n",
    "    \"cats_vs_dogs_small\\\\test\",\n",
    "    image_size=(180,180),\n",
    "    batch_size=32)\n",
    "\n",
    "test_model = keras.models.load_model(\"convnet_from_scratch.keras\")\n",
    "test_loss, test_acc = test_model.evaluate(test_dataset)\n",
    "print(f\"test Accuracy: {test_acc:.3f}\")\n"
   ]
  },
  {
   "cell_type": "code",
   "execution_count": null,
   "id": "aab90357-0314-42e8-9bbb-d30980d7e3ca",
   "metadata": {},
   "outputs": [],
   "source": []
  }
 ],
 "metadata": {
  "kernelspec": {
   "display_name": "tf",
   "language": "python",
   "name": "tf"
  },
  "language_info": {
   "codemirror_mode": {
    "name": "ipython",
    "version": 3
   },
   "file_extension": ".py",
   "mimetype": "text/x-python",
   "name": "python",
   "nbconvert_exporter": "python",
   "pygments_lexer": "ipython3",
   "version": "3.9.16"
  }
 },
 "nbformat": 4,
 "nbformat_minor": 5
}
