{
 "cells": [
  {
   "cell_type": "code",
   "execution_count": 4,
   "id": "0f4e3105",
   "metadata": {},
   "outputs": [
    {
     "name": "stdout",
     "output_type": "stream",
     "text": [
      "Epoch 1/10\n",
      "375/375 [==============================] - 4s 4ms/step - loss: 1273.1355 - accuracy: 0.4160 - val_loss: 2.6970 - val_accuracy: 0.2299\n",
      "Epoch 2/10\n",
      "375/375 [==============================] - 1s 3ms/step - loss: 4.1907 - accuracy: 0.2543 - val_loss: 2.9354 - val_accuracy: 0.3462\n",
      "Epoch 3/10\n",
      "375/375 [==============================] - 1s 3ms/step - loss: 4.2809 - accuracy: 0.2505 - val_loss: 6.2479 - val_accuracy: 0.2853\n",
      "Epoch 4/10\n",
      "375/375 [==============================] - 1s 3ms/step - loss: 2.6506 - accuracy: 0.2373 - val_loss: 2.2149 - val_accuracy: 0.2518\n",
      "Epoch 5/10\n",
      "375/375 [==============================] - 1s 3ms/step - loss: 2.5078 - accuracy: 0.2304 - val_loss: 2.7691 - val_accuracy: 0.2064\n",
      "Epoch 6/10\n",
      "375/375 [==============================] - 1s 3ms/step - loss: 2.8315 - accuracy: 0.2458 - val_loss: 2.0623 - val_accuracy: 0.2513\n",
      "Epoch 7/10\n",
      "375/375 [==============================] - 1s 3ms/step - loss: 2.4885 - accuracy: 0.2557 - val_loss: 2.6871 - val_accuracy: 0.2718\n",
      "Epoch 8/10\n",
      "375/375 [==============================] - 1s 3ms/step - loss: 2.3864 - accuracy: 0.2625 - val_loss: 3.1215 - val_accuracy: 0.2812\n",
      "Epoch 9/10\n",
      "375/375 [==============================] - 1s 3ms/step - loss: 2.6885 - accuracy: 0.2747 - val_loss: 2.8459 - val_accuracy: 0.2891\n",
      "Epoch 10/10\n",
      "375/375 [==============================] - 1s 3ms/step - loss: 2.6648 - accuracy: 0.2600 - val_loss: 2.0657 - val_accuracy: 0.2624\n"
     ]
    },
    {
     "data": {
      "text/plain": [
       "<keras.callbacks.History at 0x20485936970>"
      ]
     },
     "execution_count": 4,
     "metadata": {},
     "output_type": "execute_result"
    }
   ],
   "source": [
    "from tensorflow.keras.datasets import mnist\n",
    "import numpy as np\n",
    "from tensorflow import keras\n",
    "from tensorflow.keras import layers\n",
    "\n",
    "(train_images, train_labels), _= mnist.load_data()\n",
    "train_images = train_images.reshape((60000, 28*28))\n",
    "train_images = train_images.astype(\"float32\") / 255\n",
    "\n",
    "\n",
    "model = keras.Sequential([\n",
    "        layers.Dense(512, activation=\"relu\"),\n",
    "        layers.Dense(10, activation=\"softmax\")\n",
    "    ])\n",
    "    \n",
    "model.compile(optimizer=keras.optimizers.RMSprop(1.),\n",
    "                 loss=\"sparse_categorical_crossentropy\",\n",
    "                 metrics=[\"accuracy\"])\n",
    "model.fit(train_images, train_labels, epochs=10,\n",
    "         batch_size=128, validation_split=0.2)"
   ]
  },
  {
   "cell_type": "code",
   "execution_count": null,
   "id": "8489429b",
   "metadata": {},
   "outputs": [],
   "source": []
  }
 ],
 "metadata": {
  "kernelspec": {
   "display_name": "tf",
   "language": "python",
   "name": "tf"
  },
  "language_info": {
   "codemirror_mode": {
    "name": "ipython",
    "version": 3
   },
   "file_extension": ".py",
   "mimetype": "text/x-python",
   "name": "python",
   "nbconvert_exporter": "python",
   "pygments_lexer": "ipython3",
   "version": "3.9.16"
  }
 },
 "nbformat": 4,
 "nbformat_minor": 5
}
