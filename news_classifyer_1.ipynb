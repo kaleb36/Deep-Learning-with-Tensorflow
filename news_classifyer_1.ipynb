{
 "cells": [
  {
   "cell_type": "code",
   "execution_count": 1,
   "id": "91dae4a3",
   "metadata": {},
   "outputs": [
    {
     "name": "stdout",
     "output_type": "stream",
     "text": [
      "Epoch 1/9\n",
      "16/16 [==============================] - 1s 10ms/step - loss: 2.7426 - accuracy: 0.5246\n",
      "Epoch 2/9\n",
      "16/16 [==============================] - 0s 10ms/step - loss: 1.4333 - accuracy: 0.7152\n",
      "Epoch 3/9\n",
      "16/16 [==============================] - 0s 12ms/step - loss: 1.0477 - accuracy: 0.7854\n",
      "Epoch 4/9\n",
      "16/16 [==============================] - 0s 11ms/step - loss: 0.8247 - accuracy: 0.8284\n",
      "Epoch 5/9\n",
      "16/16 [==============================] - 0s 10ms/step - loss: 0.6537 - accuracy: 0.8624\n",
      "Epoch 6/9\n",
      "16/16 [==============================] - 0s 10ms/step - loss: 0.5263 - accuracy: 0.8876\n",
      "Epoch 7/9\n",
      "16/16 [==============================] - 0s 10ms/step - loss: 0.4248 - accuracy: 0.9114\n",
      "Epoch 8/9\n",
      "16/16 [==============================] - 0s 10ms/step - loss: 0.3492 - accuracy: 0.9268\n",
      "Epoch 9/9\n",
      "16/16 [==============================] - 0s 10ms/step - loss: 0.2853 - accuracy: 0.9366\n",
      "71/71 [==============================] - 0s 2ms/step - loss: 0.9746 - accuracy: 0.7903\n"
     ]
    }
   ],
   "source": [
    "from tensorflow.keras.datasets import reuters\n",
    "(train_data, train_labels), (test_data, test_labels) = reuters.load_data(num_words=10000)\n",
    "\n",
    "word_index = reuters.get_word_index()\n",
    "reverse_word_index = dict([(value, key) for (key, value) in word_index.items()])\n",
    "decoded_newswire = \" \".join([reverse_word_index.get(i - 3, \"?\") for i in  train_data[0]])\n",
    "#print(decoded_newswire)\n",
    "\n",
    "import numpy as np\n",
    "\n",
    "def vectorize_sequences(sequences, dimension=10000):\n",
    "    results = np.zeros((len(sequences), dimension))#creates an  all zeros of shape (len(sequences), dimension)\n",
    "    for i, sequence in enumerate(sequences):\n",
    "        for j in sequence:\n",
    "            results[i, j] = 1. #sets specific indices of results[i] to 1s\n",
    "    return results\n",
    "\n",
    "# encoding the input data \n",
    "x_train = vectorize_sequences(train_data) #vectorized training data\n",
    "x_test = vectorize_sequences(test_data) #vectorized test data\n",
    "\n",
    "def to_one_hot(labels, dimensions=46):\n",
    "    results = np.zeros((len(labels), dimensions))\n",
    "    for i, label in enumerate(labels):\n",
    "        results[i, label] = 1\n",
    "    return results\n",
    "\n",
    "y_train = to_one_hot(train_labels) #vectorized training data\n",
    "y_test = to_one_hot(test_labels) #vectorized test data\n",
    "\n",
    "#youcan to do this in keras \n",
    "#from tensorflow.keras.utils import to_categorical\n",
    "#y_train = to_categorical(train_labels)\n",
    "#x_train = to_categorical(test_labels)\n",
    "\n",
    "from tensorflow import keras\n",
    "from tensorflow.keras import layers\n",
    "\n",
    "#model definition\n",
    "model = keras.Sequential([\n",
    "    layers.Dense(64, activation='relu'),\n",
    "    layers.Dense(64, activation=\"relu\"),\n",
    "    layers.Dense(46, activation=\"softmax\")\n",
    "])\n",
    "\n",
    "#compiling the model\n",
    "model.compile(optimizer=\"rmsprop\",\n",
    "             loss=\"categorical_crossentropy\",\n",
    "             metrics=\"accuracy\")\n",
    "\n",
    "#setting aside validating data\n",
    "x_val = x_train[:1000]\n",
    "partial_x_train = x_train[1000:]\n",
    "y_val = y_train[:1000]\n",
    "partial_y_train = y_train[1000:]\n",
    "\n",
    "history = model.fit(partial_x_train,\n",
    "                   partial_y_train,\n",
    "                   epochs = 9,\n",
    "                   batch_size=512)\n",
    "results = model.evaluate(x_test, y_test)"
   ]
  },
  {
   "cell_type": "code",
   "execution_count": 2,
   "id": "eab76a1a",
   "metadata": {},
   "outputs": [
    {
     "name": "stdout",
     "output_type": "stream",
     "text": [
      "loss:  0.9745992422103882\n",
      "accuracy:  0.7902938723564148\n"
     ]
    }
   ],
   "source": [
    "print(\"loss: \",results[0])\n",
    "print(\"accuracy: \",results[1])"
   ]
  },
  {
   "cell_type": "code",
   "execution_count": 7,
   "id": "4a999384",
   "metadata": {},
   "outputs": [
    {
     "name": "stdout",
     "output_type": "stream",
     "text": [
      "71/71 [==============================] - 0s 3ms/step\n"
     ]
    }
   ],
   "source": [
    "predictions = model.predict(x_test)\n"
   ]
  },
  {
   "cell_type": "code",
   "execution_count": 8,
   "id": "afddb73a",
   "metadata": {},
   "outputs": [
    {
     "name": "stdout",
     "output_type": "stream",
     "text": [
      "(46,)\n",
      "1.0000002\n",
      "3\n"
     ]
    }
   ],
   "source": [
    "print(predictions[0].shape)\n",
    "print(np.sum(predictions[0])) #sum of ht e probability\n",
    "print(np.argmax(predictions[0])) #the largest predicted class"
   ]
  },
  {
   "cell_type": "code",
   "execution_count": null,
   "id": "23340cde",
   "metadata": {},
   "outputs": [],
   "source": []
  }
 ],
 "metadata": {
  "kernelspec": {
   "display_name": "tf",
   "language": "python",
   "name": "tf"
  },
  "language_info": {
   "codemirror_mode": {
    "name": "ipython",
    "version": 3
   },
   "file_extension": ".py",
   "mimetype": "text/x-python",
   "name": "python",
   "nbconvert_exporter": "python",
   "pygments_lexer": "ipython3",
   "version": "3.9.16"
  }
 },
 "nbformat": 4,
 "nbformat_minor": 5
}
