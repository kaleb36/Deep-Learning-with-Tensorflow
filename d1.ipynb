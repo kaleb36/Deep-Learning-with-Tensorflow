{
 "cells": [
  {
   "cell_type": "code",
   "execution_count": 4,
   "id": "116eabfb",
   "metadata": {},
   "outputs": [
    {
     "name": "stdout",
     "output_type": "stream",
     "text": [
      "tf.Tensor(2.0, shape=(), dtype=float32)\n"
     ]
    }
   ],
   "source": [
    "import tensorflow as tf\n",
    "x=tf.Variable(0.) #instantiate a scalar variable with an initial value 0\n",
    "with tf.GradientTape() as tape:#open a GradientTape sccope.\n",
    "    y=2*x+3        #==> inside thescope apply some tensor operatios to our variable.\n",
    "grad_of_x=tape.gradient(y,x) #use the Tape to retrieve the the graduient of the output y w.r.t varable x.\n",
    "print(grad_of_x)\n"
   ]
  },
  {
   "cell_type": "code",
   "execution_count": 2,
   "id": "42e0760f",
   "metadata": {},
   "outputs": [
    {
     "name": "stdout",
     "output_type": "stream",
     "text": [
      "tf.Tensor(\n",
      "[[2.9065228 2.5932884]\n",
      " [2.8209682 1.5715055]], shape=(2, 2), dtype=float32)\n"
     ]
    }
   ],
   "source": [
    "import tensorflow as tf\n",
    "\n",
    "x=tf.Variable(tf.random.uniform((2,2)))\n",
    "with tf.GradientTape() as tape:\n",
    "    y=x**2+x\n",
    "g=tape.gradient(y,x)\n",
    "print(g)"
   ]
  },
  {
   "cell_type": "code",
   "execution_count": null,
   "id": "8aa55898",
   "metadata": {},
   "outputs": [],
   "source": []
  }
 ],
 "metadata": {
  "kernelspec": {
   "display_name": "tf",
   "language": "python",
   "name": "tf"
  },
  "language_info": {
   "codemirror_mode": {
    "name": "ipython",
    "version": 3
   },
   "file_extension": ".py",
   "mimetype": "text/x-python",
   "name": "python",
   "nbconvert_exporter": "python",
   "pygments_lexer": "ipython3",
   "version": "3.9.16"
  }
 },
 "nbformat": 4,
 "nbformat_minor": 5
}
