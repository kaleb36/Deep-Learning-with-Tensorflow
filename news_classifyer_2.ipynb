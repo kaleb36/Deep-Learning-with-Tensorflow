{
 "cells": [
  {
   "cell_type": "code",
   "execution_count": 2,
   "id": "5a74ba2a",
   "metadata": {},
   "outputs": [
    {
     "name": "stdout",
     "output_type": "stream",
     "text": [
      "Epoch 1/9\n",
      "16/16 [==============================] - 2s 25ms/step - loss: 2.5721 - accuracy: 0.4897\n",
      "Epoch 2/9\n",
      "16/16 [==============================] - 0s 11ms/step - loss: 1.4117 - accuracy: 0.7060\n",
      "Epoch 3/9\n",
      "16/16 [==============================] - 0s 11ms/step - loss: 1.0500 - accuracy: 0.7717\n",
      "Epoch 4/9\n",
      "16/16 [==============================] - 0s 11ms/step - loss: 0.8242 - accuracy: 0.8198\n",
      "Epoch 5/9\n",
      "16/16 [==============================] - 0s 11ms/step - loss: 0.6555 - accuracy: 0.8616\n",
      "Epoch 6/9\n",
      "16/16 [==============================] - 0s 11ms/step - loss: 0.5250 - accuracy: 0.8919\n",
      "Epoch 7/9\n",
      "16/16 [==============================] - 0s 10ms/step - loss: 0.4233 - accuracy: 0.9094\n",
      "Epoch 8/9\n",
      "16/16 [==============================] - 0s 11ms/step - loss: 0.3410 - accuracy: 0.9302\n",
      "Epoch 9/9\n",
      "16/16 [==============================] - 0s 10ms/step - loss: 0.2828 - accuracy: 0.9396\n",
      "71/71 [==============================] - 0s 2ms/step - loss: 0.9783 - accuracy: 0.7827\n"
     ]
    }
   ],
   "source": [
    "\"\"\"In this notebook instead using categroical encoding we cast the labels into integer tensors\"\"\"\n",
    "\"\"\"the loss is sparse_categorical_crossentropy instead of categorical_crossentropy because categorical_crossentropy \n",
    "expects the labels to follow categorical encoding while sparse_categorical_crossentropy expects integer labels.\"\"\"\n",
    "\n",
    "from tensorflow.keras.datasets import reuters\n",
    "(train_data, train_labels), (test_data, test_labels) = reuters.load_data(num_words=10000)\n",
    "\n",
    "word_index = reuters.get_word_index()\n",
    "reverse_word_index = dict([(value, key) for (key, value) in word_index.items()])\n",
    "decoded_newswire = \" \".join([reverse_word_index.get(i - 3, \"?\") for i in  train_data[0]])\n",
    "#print(decoded_newswire)\n",
    "\n",
    "import numpy as np\n",
    "\n",
    "def vectorize_sequences(sequences, dimension=10000):\n",
    "    results = np.zeros((len(sequences), dimension))#creates an  all zeros of shape (len(sequences), dimension)\n",
    "    for i, sequence in enumerate(sequences):\n",
    "        for j in sequence:\n",
    "            results[i, j] = 1. #sets specific indices of results[i] to 1s\n",
    "    return results\n",
    "\n",
    "# encoding the input data \n",
    "x_train = vectorize_sequences(train_data) #vectorized training data\n",
    "x_test = vectorize_sequences(test_data) #vectorized test data\n",
    "\n",
    "#casting the labels to integer tensors\n",
    "y_train = np.array(train_labels)\n",
    "y_test = np.array(test_labels)\n",
    "\n",
    "from tensorflow import keras\n",
    "from tensorflow.keras import layers\n",
    "\n",
    "#model definition\n",
    "model = keras.Sequential([\n",
    "    layers.Dense(64, activation='relu'),\n",
    "    layers.Dense(64, activation=\"relu\"),\n",
    "    layers.Dense(46, activation=\"softmax\")\n",
    "])\n",
    "\n",
    "#compiling the model\n",
    "model.compile(optimizer=\"rmsprop\",\n",
    "             loss=\"sparse_categorical_crossentropy\",\n",
    "             metrics=\"accuracy\")\n",
    "\n",
    "#setting aside validating data\n",
    "x_val = x_train[:1000]\n",
    "partial_x_train = x_train[1000:]\n",
    "y_val = y_train[:1000]\n",
    "partial_y_train = y_train[1000:]\n",
    "\n",
    "history = model.fit(partial_x_train,\n",
    "                   partial_y_train,\n",
    "                   epochs = 9,\n",
    "                   batch_size=512)\n",
    "results = model.evaluate(x_test, y_test)"
   ]
  },
  {
   "cell_type": "code",
   "execution_count": 3,
   "id": "d9a59b2f",
   "metadata": {},
   "outputs": [
    {
     "name": "stdout",
     "output_type": "stream",
     "text": [
      "loss= 0.9783307313919067\n",
      "accuracy= 0.7827248573303223\n"
     ]
    }
   ],
   "source": [
    "print(\"loss=\", results[0])\n",
    "print(\"accuracy=\",results[1])"
   ]
  },
  {
   "cell_type": "code",
   "execution_count": null,
   "id": "3ebd85bf",
   "metadata": {},
   "outputs": [],
   "source": []
  }
 ],
 "metadata": {
  "kernelspec": {
   "display_name": "tf",
   "language": "python",
   "name": "tf"
  },
  "language_info": {
   "codemirror_mode": {
    "name": "ipython",
    "version": 3
   },
   "file_extension": ".py",
   "mimetype": "text/x-python",
   "name": "python",
   "nbconvert_exporter": "python",
   "pygments_lexer": "ipython3",
   "version": "3.9.16"
  }
 },
 "nbformat": 4,
 "nbformat_minor": 5
}
