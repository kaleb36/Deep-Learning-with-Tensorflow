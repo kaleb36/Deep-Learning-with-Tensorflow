{
 "cells": [
  {
   "cell_type": "code",
   "execution_count": 1,
   "id": "5f6b276c-2d81-4085-aa54-6e1026d6e6d8",
   "metadata": {},
   "outputs": [
    {
     "name": "stdout",
     "output_type": "stream",
     "text": [
      "Epoch 1/3\n",
      "1563/1563 [==============================] - 17s 8ms/step - loss: 0.2932 - accuracy: 0.9125 - val_loss: 0.1541 - val_accuracy: 0.9559\n",
      "Epoch 2/3\n",
      "1563/1563 [==============================] - 13s 8ms/step - loss: 0.1630 - accuracy: 0.9552 - val_loss: 0.1161 - val_accuracy: 0.9669\n",
      "Epoch 3/3\n",
      "1563/1563 [==============================] - 13s 9ms/step - loss: 0.1380 - accuracy: 0.9630 - val_loss: 0.1230 - val_accuracy: 0.9676\n",
      "313/313 [==============================] - 2s 6ms/step - loss: 0.1127 - accuracy: 0.9718\n",
      "313/313 [==============================] - 1s 3ms/step\n"
     ]
    }
   ],
   "source": [
    "from tensorflow import keras\n",
    "from tensorflow.keras.datasets import mnist\n",
    "from tensorflow.keras import layers\n",
    "\n",
    "def get_mnist_model():\n",
    "    inputs = keras.Input(shape=(28*28,))\n",
    "    features = layers.Dense(512, activation=\"relu\")(inputs)\n",
    "    features = layers.Dropout(0.5)(features)\n",
    "    outputs = layers.Dense(10, activation=\"softmax\")(features)\n",
    "    model = keras.Model(inputs, outputs)\n",
    "    return model\n",
    "\n",
    "(images, labels), (test_images, test_labels) = mnist.load_data()\n",
    "images = images.reshape((60000, 28*28)).astype(\"float32\") / 255\n",
    "test_images = test_images.reshape((10000, 28*28)).astype(\"float32\")/255\n",
    "train_images, val_images = images[10000:], images[:10000]\n",
    "train_labels, val_labels = labels[10000:], labels[:10000]\n",
    "\n",
    "model = get_mnist_model()\n",
    "model.compile(optimizer=\"rmsprop\",\n",
    "              loss=\"sparse_categorical_crossentropy\",\n",
    "              metrics=[\"accuracy\"]\n",
    ")\n",
    "model.fit(train_images, train_labels,\n",
    "         epochs=3,\n",
    "         validation_data=(val_images, val_labels))\n",
    "test_metrics = model.evaluate(test_images, test_labels)\n",
    "predictions = model.predict(test_images)"
   ]
  },
  {
   "cell_type": "markdown",
   "id": "585c276f-df33-40e4-bc51-1273481fc0d4",
   "metadata": {},
   "source": [
    "## using custom metrics"
   ]
  },
  {
   "cell_type": "code",
   "execution_count": 5,
   "id": "11a0f983-08d1-4f92-911b-eae0ad41592f",
   "metadata": {},
   "outputs": [
    {
     "name": "stdout",
     "output_type": "stream",
     "text": [
      "Epoch 1/3\n",
      "1563/1563 [==============================] - 19s 12ms/step - loss: 0.2972 - accuracy: 0.9120 - rmse: 7.1830 - val_loss: 0.1488 - val_accuracy: 0.9556 - val_rmse: 7.3512\n",
      "Epoch 2/3\n",
      "1563/1563 [==============================] - 21s 14ms/step - loss: 0.1671 - accuracy: 0.9522 - rmse: 7.3562 - val_loss: 0.1253 - val_accuracy: 0.9675 - val_rmse: 7.4042\n",
      "Epoch 3/3\n",
      "1563/1563 [==============================] - 6s 4ms/step - loss: 0.1403 - accuracy: 0.9624 - rmse: 7.3842 - val_loss: 0.1116 - val_accuracy: 0.9711 - val_rmse: 7.4199\n",
      "313/313 [==============================] - 1s 2ms/step - loss: 0.1087 - accuracy: 0.9721 - rmse: 7.4327\n"
     ]
    }
   ],
   "source": [
    "import tensorflow as tf\n",
    "\n",
    "class RootMeanSquaredError(keras.metrics.Metric):\n",
    "#define the state of the variables in the constructor    \n",
    "    def __init__(self, name=\"rmse\", **kwargs):\n",
    "        super().__init__(name=name, **kwargs)\n",
    "        self.mse_sum = self.add_weight(name=\"mse_sum\", initializer=\"zeros\")\n",
    "        self.total_samples = self.add_weight(\n",
    "            name=\"total_samples\", initializer=\"zeros\", dtype=\"int32\"\n",
    "        )\n",
    "\n",
    "    def update_state(self, y_true, y_pred, sample_weight=None):\n",
    "        #y_pred corresponds to predictions from the model\n",
    "        y_true= tf.one_hot(y_true, depth=tf.shape(y_pred)[1]) #targets/lables for one batch\n",
    "        mse = tf.reduce_sum(tf.square(y_true - y_pred))\n",
    "        self.mse_sum.assign_add(mse)\n",
    "        num_samples = tf.shape(y_pred)[0]\n",
    "        self.total_samples.assign_add(num_samples)\n",
    "\n",
    "    def result(self):\n",
    "        #returns the current value of the metric\n",
    "        return tf.sqrt(self.mse_sum / tf.cast(self.total_samples, tf.float32))\n",
    "    \n",
    "    def reset_state(self):\n",
    "        self.mse_sum.assign(0.)\n",
    "        self.total_samples.assign(0)\n",
    "\n",
    "model = get_mnist_model()\n",
    "model.compile(optimizer=\"rmsprop\",\n",
    "             loss=\"sparse_categorical_crossentropy\",\n",
    "             metrics=[\"accuracy\", RootMeanSquaredError()])\n",
    "model.fit(train_images, train_labels,\n",
    "         epochs=3,\n",
    "         validation_data=(val_images, val_labels))\n",
    "test_metrics = model.evaluate(test_images, test_labels)"
   ]
  },
  {
   "cell_type": "markdown",
   "id": "0ad18275-fa25-4a1a-95ab-6f1ac16fc21c",
   "metadata": {},
   "source": [
    "## using the callback arguments in fit() method"
   ]
  },
  {
   "cell_type": "code",
   "execution_count": 6,
   "id": "412dc890-de14-401b-8afd-e0bb4056aeed",
   "metadata": {},
   "outputs": [
    {
     "name": "stdout",
     "output_type": "stream",
     "text": [
      "Epoch 1/10\n",
      "1563/1563 [==============================] - 6s 4ms/step - loss: 0.2982 - accuracy: 0.9114 - val_loss: 0.1621 - val_accuracy: 0.9496\n",
      "Epoch 2/10\n",
      "1563/1563 [==============================] - 5s 3ms/step - loss: 0.1654 - accuracy: 0.9544 - val_loss: 0.1270 - val_accuracy: 0.9651\n",
      "Epoch 3/10\n",
      "1563/1563 [==============================] - 5s 3ms/step - loss: 0.1377 - accuracy: 0.9629 - val_loss: 0.1214 - val_accuracy: 0.9694\n",
      "Epoch 4/10\n",
      "1563/1563 [==============================] - 5s 3ms/step - loss: 0.1238 - accuracy: 0.9680 - val_loss: 0.1026 - val_accuracy: 0.9762\n",
      "Epoch 5/10\n",
      "1563/1563 [==============================] - 5s 3ms/step - loss: 0.1150 - accuracy: 0.9714 - val_loss: 0.1067 - val_accuracy: 0.9760\n",
      "Epoch 6/10\n",
      "1563/1563 [==============================] - 5s 3ms/step - loss: 0.1079 - accuracy: 0.9736 - val_loss: 0.1123 - val_accuracy: 0.9763\n",
      "Epoch 7/10\n",
      "1563/1563 [==============================] - 5s 3ms/step - loss: 0.1049 - accuracy: 0.9752 - val_loss: 0.1154 - val_accuracy: 0.9772\n",
      "Epoch 8/10\n",
      "1563/1563 [==============================] - 5s 3ms/step - loss: 0.1023 - accuracy: 0.9773 - val_loss: 0.1115 - val_accuracy: 0.9776\n",
      "Epoch 9/10\n",
      "1563/1563 [==============================] - 5s 3ms/step - loss: 0.0968 - accuracy: 0.9779 - val_loss: 0.1139 - val_accuracy: 0.9787\n",
      "Epoch 10/10\n",
      "1563/1563 [==============================] - 5s 3ms/step - loss: 0.0927 - accuracy: 0.9783 - val_loss: 0.1186 - val_accuracy: 0.9788\n",
      "313/313 [==============================] - 1s 2ms/step - loss: 0.1150 - accuracy: 0.9786\n",
      "313/313 [==============================] - 0s 951us/step\n"
     ]
    }
   ],
   "source": [
    "#callbacks are paased to the model via the callback argument in fit()\n",
    "#which takes a list of callbacks. You can pass any number of arguments\n",
    "callbacks_list = [\n",
    "    keras.callbacks.EarlyStopping(\n",
    "        monitor=\"val_accuracy\",\n",
    "        patience=2,\n",
    "    ),\n",
    "    keras.callbacks.ModelCheckpoint(\n",
    "        filepath=\"checkpoint_path.keras\",\n",
    "        monitor=\"val_loss\",\n",
    "        save_best_only=True,\n",
    "    )\n",
    "]\n",
    "\n",
    "model = get_mnist_model()\n",
    "model.compile(optimizer=\"rmsprop\",\n",
    "              loss=\"sparse_categorical_crossentropy\",\n",
    "              metrics=[\"accuracy\"]\n",
    ")\n",
    "model.fit(train_images, train_labels,\n",
    "         epochs=10,\n",
    "          callbacks=callbacks_list,\n",
    "         validation_data=(val_images, val_labels))\n",
    "test_metrics = model.evaluate(test_images, test_labels)\n",
    "predictions = model.predict(test_images)"
   ]
  },
  {
   "cell_type": "code",
   "execution_count": null,
   "id": "edae19ec-6240-4cb9-9d4c-52362b32dcad",
   "metadata": {},
   "outputs": [],
   "source": []
  }
 ],
 "metadata": {
  "kernelspec": {
   "display_name": "tf",
   "language": "python",
   "name": "tf"
  },
  "language_info": {
   "codemirror_mode": {
    "name": "ipython",
    "version": 3
   },
   "file_extension": ".py",
   "mimetype": "text/x-python",
   "name": "python",
   "nbconvert_exporter": "python",
   "pygments_lexer": "ipython3",
   "version": "3.9.16"
  }
 },
 "nbformat": 4,
 "nbformat_minor": 5
}
