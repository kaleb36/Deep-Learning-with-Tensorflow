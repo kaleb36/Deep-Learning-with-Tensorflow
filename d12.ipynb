{
 "cells": [
  {
   "cell_type": "code",
   "execution_count": 1,
   "id": "a0d5b8ba-8c81-4f01-90ec-983cfd192499",
   "metadata": {},
   "outputs": [
    {
     "name": "stdout",
     "output_type": "stream",
     "text": [
      "40/40 [==============================] - 2s 14ms/step - loss: 37.5279 - output_1_loss: 0.3169 - output_2_loss: 37.2110 - output_1_mean_absolute_error: 0.4813 - output_2_accuracy: 0.2250\n",
      "40/40 [==============================] - 1s 8ms/step - loss: 35.4230 - output_1_loss: 0.3255 - output_2_loss: 35.0975 - output_1_mean_absolute_error: 0.4903 - output_2_accuracy: 0.0695\n",
      "40/40 [==============================] - 0s 5ms/step\n"
     ]
    }
   ],
   "source": [
    "from tensorflow import keras\n",
    "from tensorflow.keras import layers\n",
    "\n",
    "vocabulary_size = 10000\n",
    "num_tags = 100\n",
    "num_departments = 4\n",
    "\n",
    "#defining model inputs\n",
    "\"\"\"This section just defines what the model will expect as input\"\"\"\n",
    "title = keras.Input(shape=(vocabulary_size,), name=\"title\")\n",
    "text_body = keras.Input(shape=(vocabulary_size,), name=\"text_body\")\n",
    "tags = keras.Input(shape=(num_tags,), name=\"tags\")\n",
    "\n",
    "class CustomerTicketModel(keras.Model):\n",
    "    def __init__(self, num_departments):\n",
    "        super().__init__()\n",
    "        #define sublayers in the constructor\n",
    "        self.concat_layer = layers.Concatenate()\n",
    "        self.mixing_layer = layers.Dense(64, activation=\"relu\")\n",
    "        self.priority_scorer = layers.Dense(1, activation=\"sigmoid\")\n",
    "        self.department_classifier = layers.Dense(num_departments, activation=\"softmax\")\n",
    "\n",
    "    def call(self, inputs):\n",
    "        title = inputs[\"title\"]\n",
    "        text_body = inputs[\"text_body\"]\n",
    "        tags = inputs[\"tags\"]\n",
    "\n",
    "        features = self.concat_layer([title, text_body, tags])\n",
    "        features = self.mixing_layer(features)\n",
    "        priority = self.priority_scorer(features)\n",
    "        department = self.department_classifier(features)\n",
    "        return priority, department\n",
    "\n",
    "import numpy as np\n",
    "\n",
    "num_samples = 1280\n",
    "\n",
    "#dummy input data\n",
    "\"\"\"Here are the real inputs\"\"\"\n",
    "title_data = np.random.randint(0, 2, size=(num_samples, vocabulary_size))\n",
    "text_body_data = np.random.randint(0, 2, size=(num_samples, vocabulary_size)) \n",
    "tags_data = np.random.randint(0, 2, size=(num_samples, num_tags)) \n",
    "\n",
    "#dummy target data\n",
    "priority_data = np.random.random(size=(num_samples, 1))\n",
    "department_data = np.random.randint(0, 2, size=(num_samples, num_departments))\n",
    "\n",
    "#instantiating the model\n",
    "model = CustomerTicketModel(num_departments=4)\n",
    "priority, departments = model({\"title\": title_data, \"text_body\": text_body_data, \"tags\": tags_data})\n",
    "\n",
    "#Training the model\n",
    "model.compile(optimizer = \"rmsprop\",\n",
    "              loss=[\"mean_squared_error\", \"categorical_crossentropy\"],\n",
    "              metrics=[[\"mean_absolute_error\"], [\"accuracy\"]]\n",
    ")\n",
    "model.fit({\"title\": title_data, \"text_body\": text_body_data, \"tags\": tags_data},\n",
    "         [priority_data, department_data],\n",
    "         epochs=1)\n",
    "model.evaluate({\"title\": title_data, \"text_body\": text_body_data, \"tags\": tags_data},\n",
    "              [priority_data, department_data])\n",
    "priority_preds, department_preds = model.predict({\"title\": title_data, \"text_body\": text_body_data, \"tags\": tags_data})\n",
    "\n",
    "        "
   ]
  }
 ],
 "metadata": {
  "kernelspec": {
   "display_name": "tf",
   "language": "python",
   "name": "tf"
  },
  "language_info": {
   "codemirror_mode": {
    "name": "ipython",
    "version": 3
   },
   "file_extension": ".py",
   "mimetype": "text/x-python",
   "name": "python",
   "nbconvert_exporter": "python",
   "pygments_lexer": "ipython3",
   "version": "3.9.16"
  }
 },
 "nbformat": 4,
 "nbformat_minor": 5
}
