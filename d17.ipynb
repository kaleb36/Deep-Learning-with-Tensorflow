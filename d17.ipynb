{
 "cells": [
  {
   "cell_type": "code",
   "execution_count": 1,
   "id": "cad12ce0-9de0-468e-9124-193a88f252b4",
   "metadata": {},
   "outputs": [],
   "source": [
    "from tensorflow import keras\n",
    "from tensorflow.keras.datasets import mnist\n",
    "from tensorflow.keras import layers\n",
    "\n",
    "def get_mnist_model():\n",
    "    inputs = keras.Input(shape=(28*28,))\n",
    "    features = layers.Dense(512, activation=\"relu\")(inputs)\n",
    "    features = layers.Dropout(0.5)(features)\n",
    "    outputs = layers.Dense(10, activation=\"softmax\")(features)\n",
    "    model = keras.Model(inputs, outputs)\n",
    "    return model\n",
    "\n",
    "(images, labels), (test_images, test_labels) = mnist.load_data()\n",
    "images = images.reshape((60000, 28*28)).astype(\"float32\") / 255\n",
    "test_images = test_images.reshape((10000, 28*28)).astype(\"float32\")/255\n",
    "train_images, val_images = images[10000:], images[:10000]\n",
    "train_labels, val_labels = labels[10000:], labels[:10000]\n",
    "\n",
    "model = get_mnist_model()"
   ]
  },
  {
   "cell_type": "markdown",
   "id": "5e3684c8-bd36-48c5-a988-b0634ec0fdce",
   "metadata": {},
   "source": [
    "# writing step by step training loops"
   ]
  },
  {
   "cell_type": "markdown",
   "id": "ef9870d2-13d8-49e6-b9b1-af6bad9355ee",
   "metadata": {},
   "source": [
    "## The training step function"
   ]
  },
  {
   "cell_type": "code",
   "execution_count": 2,
   "id": "7c13b89f-87ff-41f9-90fa-06d2cfb3af04",
   "metadata": {},
   "outputs": [],
   "source": [
    "#prepare the loss function\n",
    "loss_fn = keras.losses.SparseCategoricalCrossentropy()\n",
    "\n",
    "#prepare optimizer\n",
    "optimizer = keras.optimizers.RMSprop() \n",
    "\n",
    "#prepare list of metrics to monitor\n",
    "metrics = [keras.metrics.SparseCategoricalAccuracy()] \n",
    "\n",
    "#prepare a mean metric tracker to keep track of loss average\n",
    "loss_tracking_metric = keras.metrics.Mean() \n",
    "\n",
    "def train_step(inputs, targets):\n",
    "    with tf.GradientTape() as tape:\n",
    "        predictions = model(inputs, training=True)\n",
    "        loss = loss_fn(targets, predictions)\n",
    "    gradients = tape.gradient(loss, model.trainable_weights)\n",
    "    optimizer.apply_gradients(zip(gradients, model.trainable_weights))\n",
    "\n",
    "    logs = {}\n",
    "    for metric in metrics:\n",
    "        metric.update_state(targets, predictions)\n",
    "        logs[metric.name] = metric.result()\n",
    "    loss_tracking_metric.update_state(loss)\n",
    "    logs[\"loss\"] = loss_tracking_metric.result()\n",
    "    return logs\n",
    "        \n"
   ]
  },
  {
   "cell_type": "markdown",
   "id": "4ca5ab32-521f-4fb3-be90-16c0363ec015",
   "metadata": {},
   "source": [
    "## resetting the metrics"
   ]
  },
  {
   "cell_type": "code",
   "execution_count": 3,
   "id": "c48c5c2c-01ae-4d40-8b7c-0e3323b0ea6c",
   "metadata": {},
   "outputs": [],
   "source": [
    "def reset_metrics():\n",
    "    for metric in metrics:\n",
    "        metric.reset_state()\n",
    "    loss_tracking_metric.reset_state()"
   ]
  },
  {
   "cell_type": "markdown",
   "id": "b514c531-6aa3-4e5d-b82e-281a50661049",
   "metadata": {},
   "source": [
    "## the loop itself"
   ]
  },
  {
   "cell_type": "code",
   "execution_count": 4,
   "id": "9012d62f-5342-4c46-a476-79018432de5c",
   "metadata": {},
   "outputs": [
    {
     "name": "stdout",
     "output_type": "stream",
     "text": [
      "Results at the end of epoch 0\n",
      "...sparse_categorical_accuracy: 0.9141\n",
      "...loss: 0.2874\n",
      "Results at the end of epoch 1\n",
      "...sparse_categorical_accuracy: 0.9539\n",
      "...loss: 0.1637\n",
      "Results at the end of epoch 2\n",
      "...sparse_categorical_accuracy: 0.9628\n",
      "...loss: 0.1403\n"
     ]
    }
   ],
   "source": [
    "import tensorflow as tf\n",
    "\n",
    "training_dataset = tf.data.Dataset.from_tensor_slices((train_images, train_labels))\n",
    "training_dataset = training_dataset.batch(32)\n",
    "epochs = 3\n",
    "for epoch in range(epochs):\n",
    "    reset_metrics()\n",
    "    for inputs_batch, targets_batch in training_dataset:\n",
    "        logs = train_step(inputs_batch, targets_batch)\n",
    "    print(f\"Results at the end of epoch {epoch}\")\n",
    "    for key, value in logs.items():\n",
    "        print(f\"...{key}: {value:.4f}\")"
   ]
  },
  {
   "cell_type": "markdown",
   "id": "abb84536-764b-4520-ac11-798491799a1d",
   "metadata": {},
   "source": [
    "## writing a step-by-step evaluation loop"
   ]
  },
  {
   "cell_type": "code",
   "execution_count": 9,
   "id": "7585b9fa-e8e8-40bf-9f59-7ead741ed2ac",
   "metadata": {},
   "outputs": [
    {
     "name": "stdout",
     "output_type": "stream",
     "text": [
      "Evaluation results\n",
      "...val_sparse_categorical_accuracy: 0.9663\n",
      "...val_loss: 0.1368\n"
     ]
    }
   ],
   "source": [
    "def test_step(inputs, targets):\n",
    "    predictions = model(inputs, training=False)\n",
    "    loss = loss_fn(targets, predictions)\n",
    "\n",
    "    logs = {}\n",
    "    for metric in metrics:\n",
    "        metric.update_state(targets, predictions)\n",
    "        logs[\"val_\" + metric.name] = metric.result()\n",
    "        loss_tracking_metric.update_state(loss)\n",
    "        logs[\"val_loss\"] = loss_tracking_metric.result()\n",
    "        return logs\n",
    "\n",
    "val_dataset = tf.data.Dataset.from_tensor_slices((val_images, val_labels))\n",
    "val_dataset = val_dataset.batch(32)\n",
    "reset_metrics()\n",
    "for inputs_batch, targets_batch in val_dataset:\n",
    "    logs = test_step(inputs_batch, targets_batch)\n",
    "print(\"Evaluation results\")\n",
    "for key, value in logs.items():\n",
    "    print(f\"...{key}: {value:.4f}\")\n",
    "                        "
   ]
  },
  {
   "cell_type": "code",
   "execution_count": null,
   "id": "fc54169e-3002-4185-8d61-d19e18f7ce19",
   "metadata": {},
   "outputs": [],
   "source": []
  }
 ],
 "metadata": {
  "kernelspec": {
   "display_name": "tf",
   "language": "python",
   "name": "tf"
  },
  "language_info": {
   "codemirror_mode": {
    "name": "ipython",
    "version": 3
   },
   "file_extension": ".py",
   "mimetype": "text/x-python",
   "name": "python",
   "nbconvert_exporter": "python",
   "pygments_lexer": "ipython3",
   "version": "3.9.16"
  }
 },
 "nbformat": 4,
 "nbformat_minor": 5
}
