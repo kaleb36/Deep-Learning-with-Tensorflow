{
 "cells": [
  {
   "cell_type": "code",
   "execution_count": 2,
   "id": "ff37f5e8",
   "metadata": {},
   "outputs": [
    {
     "ename": "SystemExit",
     "evalue": "Don't run, just for reference",
     "output_type": "error",
     "traceback": [
      "An exception has occurred, use %tb to see the full traceback.\n",
      "\u001b[1;31mSystemExit\u001b[0m\u001b[1;31m:\u001b[0m Don't run, just for reference\n"
     ]
    }
   ],
   "source": [
    "from sys import exit\n",
    "\n",
    "if __name__=='__main__':\n",
    "    \n",
    "    exit(\"Don't run, just for reference\")\n",
    "\n",
    "from tensorflow import keras\n",
    "import numpy as np\n",
    "\n",
    "model = keras.Sequential([keras.layers.Dense(1)])\n",
    "model.compile(optimizer=keras.optimizers.RMSprop(learning_rate=0.1),\n",
    "             loss=keras.losses.MeanSquaredError(),\n",
    "             metrics=[keras.metrics.BinaryAccuracy()])\n",
    "\n",
    "\"\"\" To avoid having samples from only one class in the validation data,\n",
    "shuffle the inputs and targets using a random indices permutation. \"\"\"  \n",
    "indices_permutation = np.random.permutation(len(inputs))\n",
    "shuffled_inputs = inputs[indices_permutation]\n",
    "shuffled_targets = targets[indices_permutation]\n",
    "\n",
    "\"\"\"Reserve 30% of the training inputs and targets for validation\n",
    "(exclude from training, reserve this to compute valdation loss and metrics)\"\"\"\n",
    "num_validation_samples = int(0.3 * len(inputs))\n",
    "val_inputs = shuffled_inputs[:num_validation_samples] #validation input\n",
    "val_targets = shuffled_targets[:num_validation_samples] #validattion targets\n",
    "training_inputs = shuffled_inputs[num_validation_samples:]\n",
    "training_targets = shuffled_targets[num_validation_samples:]\n",
    "\n",
    "model.fit(\n",
    "training_inputs, #training data, used to update the weights of the model\n",
    "training_targets,#training data, used to update the weights of the model\n",
    "epochs=5,\n",
    "batch_size=16,\n",
    "validation_data=(val_inputs, val_targets)) #validation data, used only to monitor the validation loss and metrics\n",
    "\n"
   ]
  },
  {
   "cell_type": "code",
   "execution_count": null,
   "id": "ea5443e8",
   "metadata": {},
   "outputs": [],
   "source": []
  }
 ],
 "metadata": {
  "kernelspec": {
   "display_name": "tf",
   "language": "python",
   "name": "tf"
  },
  "language_info": {
   "codemirror_mode": {
    "name": "ipython",
    "version": 3
   },
   "file_extension": ".py",
   "mimetype": "text/x-python",
   "name": "python",
   "nbconvert_exporter": "python",
   "pygments_lexer": "ipython3",
   "version": "3.9.16"
  }
 },
 "nbformat": 4,
 "nbformat_minor": 5
}
