{
 "cells": [
  {
   "cell_type": "code",
   "execution_count": 1,
   "metadata": {},
   "outputs": [
    {
     "name": "stderr",
     "output_type": "stream",
     "text": [
      "2023-11-13 15:12:16.466215: I tensorflow/core/platform/cpu_feature_guard.cc:182] This TensorFlow binary is optimized to use available CPU instructions in performance-critical operations.\n",
      "To enable the following instructions: AVX2 FMA, in other operations, rebuild TensorFlow with the appropriate compiler flags.\n",
      "2023-11-13 15:12:18.491231: W tensorflow/compiler/tf2tensorrt/utils/py_utils.cc:38] TF-TRT Warning: Could not find TensorRT\n",
      "2023-11-13 15:12:24.921712: I tensorflow/compiler/xla/stream_executor/cuda/cuda_gpu_executor.cc:982] could not open file to read NUMA node: /sys/bus/pci/devices/0000:01:00.0/numa_node\n",
      "Your kernel may have been built without NUMA support.\n",
      "2023-11-13 15:12:25.853249: W tensorflow/core/common_runtime/gpu/gpu_device.cc:1956] Cannot dlopen some GPU libraries. Please make sure the missing libraries mentioned above are installed properly if you would like to use GPU. Follow the guide at https://www.tensorflow.org/install/gpu for how to download and setup the required libraries for your platform.\n",
      "Skipping registering GPU devices...\n"
     ]
    },
    {
     "name": "stdout",
     "output_type": "stream",
     "text": [
      "Epoch 1/10\n",
      "375/375 [==============================] - 5s 11ms/step - loss: 583.9406 - accuracy: 0.3114 - val_loss: 2.3774 - val_accuracy: 0.2143\n",
      "Epoch 2/10\n",
      "375/375 [==============================] - 3s 8ms/step - loss: 2.6708 - accuracy: 0.2023 - val_loss: 2.1952 - val_accuracy: 0.1711\n",
      "Epoch 3/10\n",
      "375/375 [==============================] - 3s 8ms/step - loss: 2.3573 - accuracy: 0.1972 - val_loss: 2.7539 - val_accuracy: 0.2183\n",
      "Epoch 4/10\n",
      "375/375 [==============================] - 3s 9ms/step - loss: 2.4494 - accuracy: 0.2137 - val_loss: 2.1111 - val_accuracy: 0.2260\n",
      "Epoch 5/10\n",
      "375/375 [==============================] - 3s 8ms/step - loss: 2.4477 - accuracy: 0.2097 - val_loss: 2.1945 - val_accuracy: 0.1658\n",
      "Epoch 6/10\n",
      "375/375 [==============================] - 3s 8ms/step - loss: 2.4874 - accuracy: 0.2116 - val_loss: 2.1590 - val_accuracy: 0.2352\n",
      "Epoch 7/10\n",
      "375/375 [==============================] - 3s 8ms/step - loss: 2.3912 - accuracy: 0.2233 - val_loss: 2.3077 - val_accuracy: 0.2568\n",
      "Epoch 8/10\n",
      "375/375 [==============================] - 3s 8ms/step - loss: 2.4024 - accuracy: 0.2247 - val_loss: 2.2371 - val_accuracy: 0.2147\n",
      "Epoch 9/10\n",
      "375/375 [==============================] - 3s 7ms/step - loss: 2.4712 - accuracy: 0.2228 - val_loss: 2.1223 - val_accuracy: 0.2172\n",
      "Epoch 10/10\n",
      "375/375 [==============================] - 3s 9ms/step - loss: 2.4228 - accuracy: 0.2348 - val_loss: 2.2138 - val_accuracy: 0.2368\n"
     ]
    },
    {
     "data": {
      "text/plain": [
       "<keras.callbacks.History at 0x7f9cc6fbffa0>"
      ]
     },
     "execution_count": 1,
     "metadata": {},
     "output_type": "execute_result"
    }
   ],
   "source": [
    "from tensorflow.keras.datasets import mnist\n",
    "import numpy as np\n",
    "from tensorflow import keras\n",
    "from tensorflow.keras import layers\n",
    "\n",
    "(train_images, train_labels), _= mnist.load_data()\n",
    "train_images = train_images.reshape((60000, 28*28))\n",
    "train_images = train_images.astype(\"float32\") / 255\n",
    "\n",
    "\n",
    "model = keras.Sequential([\n",
    "        layers.Dense(512, activation=\"relu\"),\n",
    "        layers.Dense(10, activation=\"softmax\")\n",
    "    ])\n",
    "    \n",
    "model.compile(optimizer=keras.optimizers.RMSprop(1.),\n",
    "                 loss=\"sparse_categorical_crossentropy\",\n",
    "                 metrics=[\"accuracy\"])\n",
    "model.fit(train_images, train_labels, epochs=10,\n",
    "         batch_size=128, validation_split=0.2)"
   ]
  },
  {
   "cell_type": "code",
   "execution_count": null,
   "metadata": {},
   "outputs": [],
   "source": []
  }
 ],
 "metadata": {
  "kernelspec": {
   "display_name": "kaltf",
   "language": "python",
   "name": "kaltf"
  },
  "language_info": {
   "codemirror_mode": {
    "name": "ipython",
    "version": 3
   },
   "file_extension": ".py",
   "mimetype": "text/x-python",
   "name": "python",
   "nbconvert_exporter": "python",
   "pygments_lexer": "ipython3",
   "version": "3.9.18"
  }
 },
 "nbformat": 4,
 "nbformat_minor": 4
}
